{
 "cells": [
  {
   "cell_type": "code",
   "execution_count": 2,
   "id": "fcb5ece4",
   "metadata": {},
   "outputs": [
    {
     "name": "stderr",
     "output_type": "stream",
     "text": [
      "\n",
      "                 from  n    params  module                                  arguments                     \n",
      "  0                -1  1      1160  models.common.Conv                      [3, 40, 3, 1]                 \n",
      "  1                -1  1     28960  models.common.Conv                      [40, 80, 3, 2]                \n",
      "  2                -1  1     57760  models.common.Conv                      [80, 80, 3, 1]                \n",
      "  3                -1  1    115520  models.common.Conv                      [80, 160, 3, 2]               \n",
      "  4                -1  1     10368  models.common.Conv                      [160, 64, 1, 1]               \n",
      "  5                -2  1     10368  models.common.Conv                      [160, 64, 1, 1]               \n",
      "  6                -1  1     36992  models.common.Conv                      [64, 64, 3, 1]                \n",
      "  7                -1  1     36992  models.common.Conv                      [64, 64, 3, 1]                \n",
      "  8                -1  1     36992  models.common.Conv                      [64, 64, 3, 1]                \n",
      "  9                -1  1     36992  models.common.Conv                      [64, 64, 3, 1]                \n",
      " 10                -1  1     36992  models.common.Conv                      [64, 64, 3, 1]                \n",
      " 11                -1  1     36992  models.common.Conv                      [64, 64, 3, 1]                \n",
      " 12[-1, -3, -5, -7, -8]  1         0  models.common.Concat                    [1]                           \n",
      " 13                -1  1    103040  models.common.Conv                      [320, 320, 1, 1]              \n",
      " 14                -1  1         0  models.common.MP                        []                            \n",
      " 15                -1  1     51520  models.common.Conv                      [320, 160, 1, 1]              \n",
      " 16                -3  1     51520  models.common.Conv                      [320, 160, 1, 1]              \n",
      " 17                -1  1    230720  models.common.Conv                      [160, 160, 3, 2]              \n",
      " 18          [-1, -3]  1         0  models.common.Concat                    [1]                           \n",
      " 19                -1  1     41216  models.common.Conv                      [320, 128, 1, 1]              \n",
      " 20                -2  1     41216  models.common.Conv                      [320, 128, 1, 1]              \n",
      " 21                -1  1    147712  models.common.Conv                      [128, 128, 3, 1]              \n",
      " 22                -1  1    147712  models.common.Conv                      [128, 128, 3, 1]              \n",
      " 23                -1  1    147712  models.common.Conv                      [128, 128, 3, 1]              \n",
      " 24                -1  1    147712  models.common.Conv                      [128, 128, 3, 1]              \n",
      " 25                -1  1    147712  models.common.Conv                      [128, 128, 3, 1]              \n",
      " 26                -1  1    147712  models.common.Conv                      [128, 128, 3, 1]              \n",
      " 27[-1, -3, -5, -7, -8]  1         0  models.common.Concat                    [1]                           \n",
      " 28                -1  1    410880  models.common.Conv                      [640, 640, 1, 1]              \n",
      " 29                -1  1         0  models.common.MP                        []                            \n",
      " 30                -1  1    205440  models.common.Conv                      [640, 320, 1, 1]              \n",
      " 31                -3  1    205440  models.common.Conv                      [640, 320, 1, 1]              \n",
      " 32                -1  1    922240  models.common.Conv                      [320, 320, 3, 2]              \n",
      " 33          [-1, -3]  1         0  models.common.Concat                    [1]                           \n",
      " 34                -1  1    164352  models.common.Conv                      [640, 256, 1, 1]              \n",
      " 35                -2  1    164352  models.common.Conv                      [640, 256, 1, 1]              \n",
      " 36                -1  1    590336  models.common.Conv                      [256, 256, 3, 1]              \n",
      " 37                -1  1    590336  models.common.Conv                      [256, 256, 3, 1]              \n",
      " 38                -1  1    590336  models.common.Conv                      [256, 256, 3, 1]              \n",
      " 39                -1  1    590336  models.common.Conv                      [256, 256, 3, 1]              \n",
      " 40                -1  1    590336  models.common.Conv                      [256, 256, 3, 1]              \n",
      " 41                -1  1    590336  models.common.Conv                      [256, 256, 3, 1]              \n",
      " 42[-1, -3, -5, -7, -8]  1         0  models.common.Concat                    [1]                           \n",
      " 43                -1  1   1640960  models.common.Conv                      [1280, 1280, 1, 1]            \n",
      " 44                -1  1         0  models.common.MP                        []                            \n",
      " 45                -1  1    820480  models.common.Conv                      [1280, 640, 1, 1]             \n",
      " 46                -3  1    820480  models.common.Conv                      [1280, 640, 1, 1]             \n",
      " 47                -1  1   3687680  models.common.Conv                      [640, 640, 3, 2]              \n",
      " 48          [-1, -3]  1         0  models.common.Concat                    [1]                           \n",
      " 49                -1  1    328192  models.common.Conv                      [1280, 256, 1, 1]             \n",
      " 50                -2  1    328192  models.common.Conv                      [1280, 256, 1, 1]             \n",
      " 51                -1  1    590336  models.common.Conv                      [256, 256, 3, 1]              \n",
      " 52                -1  1    590336  models.common.Conv                      [256, 256, 3, 1]              \n",
      " 53                -1  1    590336  models.common.Conv                      [256, 256, 3, 1]              \n",
      " 54                -1  1    590336  models.common.Conv                      [256, 256, 3, 1]              \n",
      " 55                -1  1    590336  models.common.Conv                      [256, 256, 3, 1]              \n",
      " 56                -1  1    590336  models.common.Conv                      [256, 256, 3, 1]              \n",
      " 57[-1, -3, -5, -7, -8]  1         0  models.common.Concat                    [1]                           \n",
      " 58                -1  1   1640960  models.common.Conv                      [1280, 1280, 1, 1]            \n",
      " 59                -1  1  11887360  models.common.SPPCSPC                   [1280, 640, 1]                \n",
      " 60                -1  1    205440  models.common.Conv                      [640, 320, 1, 1]              \n",
      " 61                -1  1         0  torch.nn.modules.upsampling.Upsample    [None, 2, 'nearest']          \n",
      " 62                43  1    410240  models.common.Conv                      [1280, 320, 1, 1]             \n",
      " 63          [-1, -2]  1         0  models.common.Concat                    [1]                           \n",
      " 64                -1  1    164352  models.common.Conv                      [640, 256, 1, 1]              \n",
      " 65                -2  1    164352  models.common.Conv                      [640, 256, 1, 1]              \n",
      " 66                -1  1    590336  models.common.Conv                      [256, 256, 3, 1]              \n",
      " 67                -1  1    590336  models.common.Conv                      [256, 256, 3, 1]              \n",
      " 68                -1  1    590336  models.common.Conv                      [256, 256, 3, 1]              \n",
      " 69                -1  1    590336  models.common.Conv                      [256, 256, 3, 1]              \n",
      " 70                -1  1    590336  models.common.Conv                      [256, 256, 3, 1]              \n",
      " 71                -1  1    590336  models.common.Conv                      [256, 256, 3, 1]              \n",
      " 72[-1, -3, -5, -7, -8]  1         0  models.common.Concat                    [1]                           \n",
      " 73                -1  1    410240  models.common.Conv                      [1280, 320, 1, 1]             \n",
      " 74                -1  1     51520  models.common.Conv                      [320, 160, 1, 1]              \n",
      " 75                -1  1         0  torch.nn.modules.upsampling.Upsample    [None, 2, 'nearest']          \n"
     ]
    },
    {
     "name": "stderr",
     "output_type": "stream",
     "text": [
      " 76                28  1    102720  models.common.Conv                      [640, 160, 1, 1]              \n",
      " 77          [-1, -2]  1         0  models.common.Concat                    [1]                           \n",
      " 78                -1  1     41216  models.common.Conv                      [320, 128, 1, 1]              \n",
      " 79                -2  1     41216  models.common.Conv                      [320, 128, 1, 1]              \n",
      " 80                -1  1    147712  models.common.Conv                      [128, 128, 3, 1]              \n",
      " 81                -1  1    147712  models.common.Conv                      [128, 128, 3, 1]              \n",
      " 82                -1  1    147712  models.common.Conv                      [128, 128, 3, 1]              \n",
      " 83                -1  1    147712  models.common.Conv                      [128, 128, 3, 1]              \n",
      " 84                -1  1    147712  models.common.Conv                      [128, 128, 3, 1]              \n",
      " 85                -1  1    147712  models.common.Conv                      [128, 128, 3, 1]              \n",
      " 86[-1, -3, -5, -7, -8]  1         0  models.common.Concat                    [1]                           \n",
      " 87                -1  1    102720  models.common.Conv                      [640, 160, 1, 1]              \n",
      " 88                -1  1         0  models.common.MP                        []                            \n",
      " 89                -1  1     25920  models.common.Conv                      [160, 160, 1, 1]              \n",
      " 90                -3  1     25920  models.common.Conv                      [160, 160, 1, 1]              \n",
      " 91                -1  1    230720  models.common.Conv                      [160, 160, 3, 2]              \n",
      " 92      [-1, -3, 73]  1         0  models.common.Concat                    [1]                           \n",
      " 93                -1  1    164352  models.common.Conv                      [640, 256, 1, 1]              \n",
      " 94                -2  1    164352  models.common.Conv                      [640, 256, 1, 1]              \n",
      " 95                -1  1    590336  models.common.Conv                      [256, 256, 3, 1]              \n",
      " 96                -1  1    590336  models.common.Conv                      [256, 256, 3, 1]              \n",
      " 97                -1  1    590336  models.common.Conv                      [256, 256, 3, 1]              \n",
      " 98                -1  1    590336  models.common.Conv                      [256, 256, 3, 1]              \n",
      " 99                -1  1    590336  models.common.Conv                      [256, 256, 3, 1]              \n",
      "100                -1  1    590336  models.common.Conv                      [256, 256, 3, 1]              \n",
      "101[-1, -3, -5, -7, -8]  1         0  models.common.Concat                    [1]                           \n",
      "102                -1  1    410240  models.common.Conv                      [1280, 320, 1, 1]             \n",
      "103                -1  1         0  models.common.MP                        []                            \n",
      "104                -1  1    103040  models.common.Conv                      [320, 320, 1, 1]              \n",
      "105                -3  1    103040  models.common.Conv                      [320, 320, 1, 1]              \n",
      "106                -1  1    922240  models.common.Conv                      [320, 320, 3, 2]              \n",
      "107      [-1, -3, 59]  1         0  models.common.Concat                    [1]                           \n",
      "108                -1  1    656384  models.common.Conv                      [1280, 512, 1, 1]             \n",
      "109                -2  1    656384  models.common.Conv                      [1280, 512, 1, 1]             \n",
      "110                -1  1   2360320  models.common.Conv                      [512, 512, 3, 1]              \n",
      "111                -1  1   2360320  models.common.Conv                      [512, 512, 3, 1]              \n",
      "112                -1  1   2360320  models.common.Conv                      [512, 512, 3, 1]              \n",
      "113                -1  1   2360320  models.common.Conv                      [512, 512, 3, 1]              \n",
      "114                -1  1   2360320  models.common.Conv                      [512, 512, 3, 1]              \n",
      "115                -1  1   2360320  models.common.Conv                      [512, 512, 3, 1]              \n",
      "116[-1, -3, -5, -7, -8]  1         0  models.common.Concat                    [1]                           \n",
      "117                -1  1   1639680  models.common.Conv                      [2560, 640, 1, 1]             \n",
      "118                87  1    461440  models.common.Conv                      [160, 320, 3, 1]              \n",
      "119               102  1   1844480  models.common.Conv                      [320, 640, 3, 1]              \n",
      "120               117  1   7375360  models.common.Conv                      [640, 1280, 3, 1]             \n",
      "121   [118, 119, 120]  1     42668  models.yolo.IDetect                     [1, [[12, 16, 19, 36, 40, 28], [36, 75, 76, 55, 72, 146], [142, 110, 192, 243, 459, 401]], [320, 640, 1280]]\n",
      "Model Summary: 467 layers, 70815092 parameters, 70815092 gradients, 188.9 GFLOPS\n",
      "\n",
      "YOLOR 🚀 v0.1-121-g2fdc7f1 torch 1.12.1+cu102 CUDA:0 (GeForce GTX 1080 Ti, 11176.5MB)\n",
      "\n"
     ]
    },
    {
     "name": "stdout",
     "output_type": "stream",
     "text": [
      "Adding autoShape... \n"
     ]
    }
   ],
   "source": [
    "import torch\n",
    "from glob import glob\n",
    "\n",
    "# Loading trained model \n",
    "\n",
    "yolov7_path = '../'\n",
    "model_path = '/home/jesus/Environment/malaria/yolov7/runs/train/x-500-batch-4/weights/best.pt'\n",
    "\n",
    "model = torch.hub.load(yolov7_path,\n",
    "                       'custom', \n",
    "                       path_or_model=model_path, \n",
    "                       force_reload=True, \n",
    "                       source='local')"
   ]
  },
  {
   "cell_type": "code",
   "execution_count": 88,
   "id": "887ee675",
   "metadata": {},
   "outputs": [],
   "source": [
    "# Get result of a detection using an image path\n",
    "def detectImage (img_path):\n",
    "    inference = model(img_path)\n",
    "    \n",
    "    return inference\n",
    "\n",
    "# Check if the box is small or not\n",
    "def isSmallBox(side1, side2):\n",
    "    if(side1 <= 32 and side2 <= 32):\n",
    "        return True\n",
    "    elif (side1 * side2 <= 32 * 32):\n",
    "        return True\n",
    "    else:\n",
    "        return False\n",
    "\n",
    "# Count all boxes and small boxes of a detection\n",
    "def countBoxesInDetection (results):\n",
    "    predicts = results.to_dict(orient='records')\n",
    "    \n",
    "    small_counter = 0\n",
    "    all_counter = len(predicts)\n",
    "    \n",
    "    for p in predicts:\n",
    "        side1 = p['xmax'] - p['xmin']\n",
    "        side2 = p['ymax'] - p['ymin']\n",
    "\n",
    "        if(isSmallBox(side1, side2)) :\n",
    "            small_counter = small_counter + 1\n",
    "    \n",
    "    return [all_counter, small_counter]\n",
    "\n",
    "\n",
    "# Return the result of boxes in a image\n",
    "def getBoxesInImage(img_path):\n",
    "    detection = detectImage(img_path)\n",
    "    \n",
    "    detection = detection.pandas().xyxy[0]\n",
    "    \n",
    "    boxes = countBoxesInDetection(detection)\n",
    "\n",
    "    return boxes\n",
    "\n",
    "# Return all boxes and small boxes of a partition from the dataset\n",
    "def getBoxesInPartition(partition='train'):\n",
    "    directory = '/home/jesus/Environment/malaria/thick-blood-smears-150-YOLO/images/' + partition\n",
    "\n",
    "    images = glob(directory + \"/*.jpg\", recursive = True)\n",
    "    \n",
    "    all_boxes = 0\n",
    "    small_boxes = 0\n",
    "    \n",
    "    print('running...');\n",
    "    \n",
    "    for img in images:\n",
    "        boxes = getBoxesInImage(img)\n",
    "        \n",
    "        all_boxes = all_boxes + boxes[0]\n",
    "        small_boxes = small_boxes + boxes[1]\n",
    "\n",
    "    return [all_boxes, small_boxes]\n",
    "    "
   ]
  },
  {
   "cell_type": "code",
   "execution_count": 89,
   "id": "d6e73a4a",
   "metadata": {},
   "outputs": [
    {
     "name": "stdout",
     "output_type": "stream",
     "text": [
      "running...\n",
      "[57538, 20]\n"
     ]
    }
   ],
   "source": [
    "results = getBoxesInPartition('train')\n",
    "\n",
    "print(results)"
   ]
  },
  {
   "cell_type": "code",
   "execution_count": 90,
   "id": "75b7c7e4",
   "metadata": {},
   "outputs": [
    {
     "name": "stdout",
     "output_type": "stream",
     "text": [
      "running...\n",
      "[6524, 0]\n"
     ]
    }
   ],
   "source": [
    "results = getBoxesInPartition('val')\n",
    "\n",
    "print(results)"
   ]
  },
  {
   "cell_type": "code",
   "execution_count": 91,
   "id": "19ceea51",
   "metadata": {},
   "outputs": [
    {
     "name": "stdout",
     "output_type": "stream",
     "text": [
      "running...\n",
      "[20398, 0]\n"
     ]
    }
   ],
   "source": [
    "results = getBoxesInPartition('test')\n",
    "\n",
    "print(results)"
   ]
  },
  {
   "cell_type": "code",
   "execution_count": null,
   "id": "89797783",
   "metadata": {},
   "outputs": [],
   "source": []
  }
 ],
 "metadata": {
  "kernelspec": {
   "display_name": "explorer",
   "language": "python",
   "name": "explorer"
  },
  "language_info": {
   "codemirror_mode": {
    "name": "ipython",
    "version": 3
   },
   "file_extension": ".py",
   "mimetype": "text/x-python",
   "name": "python",
   "nbconvert_exporter": "python",
   "pygments_lexer": "ipython3",
   "version": "3.10.4"
  }
 },
 "nbformat": 4,
 "nbformat_minor": 5
}
